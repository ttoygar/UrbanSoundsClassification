{
 "cells": [
  {
   "cell_type": "code",
   "execution_count": 1,
   "id": "06f7a7c8",
   "metadata": {},
   "outputs": [],
   "source": [
    "import numpy as np\n",
    "import tensorflow as tf\n",
    "from tqdm import tqdm\n",
    "import os\n",
    "import shutil\n",
    "import librosa\n",
    "import cv2\n",
    "import pickle"
   ]
  },
  {
   "cell_type": "code",
   "execution_count": 2,
   "id": "0cba7e48",
   "metadata": {},
   "outputs": [],
   "source": [
    "DIR = \"UrbanSound8K/audio/\"\n",
    "TARGET_DIR = \"city_sounds\"\n",
    "SPEC_DIR = \"spectrograms\"\n",
    "PICKLE_DIR = \"urbansounds_pickles\"\n",
    "CATEGORIES = (\"air_conditioner\", \n",
    "              \"car_horn\", \n",
    "              \"children_playing\", \n",
    "              \"dog_bark\", \n",
    "              \"drilling\", \n",
    "              \"engine_idling\", \n",
    "              \"gun_shot\", \n",
    "              \"jackhammer\", \n",
    "              \"siren\", \n",
    "              \"street_music\")\n",
    "IMG_SIZE = (128,96)\n",
    "BATCH_SIZE = 32"
   ]
  },
  {
   "cell_type": "code",
   "execution_count": 3,
   "id": "b3befbda",
   "metadata": {},
   "outputs": [
    {
     "name": "stderr",
     "output_type": "stream",
     "text": [
      "100%|██████████████████████████████████████████████████████████████████████████████████| 10/10 [00:22<00:00,  2.26s/it]"
     ]
    },
    {
     "name": "stdout",
     "output_type": "stream",
     "text": [
      "Number of errors: 0\n"
     ]
    },
    {
     "name": "stderr",
     "output_type": "stream",
     "text": [
      "\n"
     ]
    }
   ],
   "source": [
    "training_data = []\n",
    "\n",
    "def normalize_minmax(x):\n",
    "    return (x-x.min())/(x.max()-x.min())\n",
    "\n",
    "def create_training_data():\n",
    "    error_amount=0\n",
    "    errors = []\n",
    "    for category in tqdm(CATEGORIES):\n",
    "        path = os.path.join(SPEC_DIR, category)\n",
    "        label_index = CATEGORIES.index(category)\n",
    "        for img in os.listdir(path):\n",
    "            try:\n",
    "                img = cv2.imread(os.path.join(path, img), cv2.IMREAD_GRAYSCALE)\n",
    "                \n",
    "                # Resizing\n",
    "                img = cv2.resize(img, (IMG_SIZE[0], IMG_SIZE[1]))\n",
    "                \n",
    "                # Normalization\n",
    "                img = normalize_minmax(img)\n",
    "\n",
    "                training_data.append([img, label_index])\n",
    "            except Exception as e:\n",
    "                error_amount +=1\n",
    "                errors.append(e)\n",
    "                pass\n",
    "    print(\"Number of errors:\",error_amount)\n",
    "#     print(\"Errors:\", errors)\n",
    "\n",
    "create_training_data()"
   ]
  },
  {
   "cell_type": "code",
   "execution_count": 4,
   "id": "8ddca769",
   "metadata": {},
   "outputs": [],
   "source": [
    "X = []\n",
    "y = []\n",
    "\n",
    "for features, label in training_data:\n",
    "    X.append(features)\n",
    "    y.append(label)"
   ]
  },
  {
   "cell_type": "code",
   "execution_count": 5,
   "id": "bffac450",
   "metadata": {},
   "outputs": [],
   "source": [
    "X_train = X[:6000]\n",
    "y_train = y[:6000]\n",
    "\n",
    "X_test = X[6000:7366]\n",
    "y_test = y[6000:7366]\n",
    "\n",
    "X_val = X[7366:]\n",
    "y_val = y[7366:]"
   ]
  },
  {
   "cell_type": "code",
   "execution_count": 6,
   "id": "73b08bb9",
   "metadata": {},
   "outputs": [],
   "source": [
    "X_train = np.array(X_train).reshape(-1, IMG_SIZE[0], IMG_SIZE[1], 1) # 1 for grayscale, 3 for RGB/BGR\n",
    "y_train = np.array(y_train)\n",
    "\n",
    "X_test = np.array(X_test).reshape(-1, IMG_SIZE[0], IMG_SIZE[1], 1)\n",
    "y_test = np.array(y_test)\n",
    "\n",
    "X_val = np.array(X_val).reshape(-1, IMG_SIZE[0], IMG_SIZE[1], 1)\n",
    "y_val = np.array(y_val)"
   ]
  },
  {
   "cell_type": "code",
   "execution_count": 7,
   "id": "52548016",
   "metadata": {},
   "outputs": [
    {
     "data": {
      "text/plain": [
       "(128, 96, 1)"
      ]
     },
     "execution_count": 7,
     "metadata": {},
     "output_type": "execute_result"
    }
   ],
   "source": [
    "X_train[0].shape"
   ]
  },
  {
   "cell_type": "code",
   "execution_count": 8,
   "id": "3da59829",
   "metadata": {},
   "outputs": [],
   "source": [
    "# Pickle Dumping\n",
    "\n",
    "dataset_dict = {\n",
    "    \"X_train\": X_train, \n",
    "    \"X_test\": X_test, \n",
    "    \"X_val\": X_val, \n",
    "    \"y_train\": y_train, \n",
    "    \"y_test\": y_test, \n",
    "    \"y_val\": y_val\n",
    "}\n",
    "\n",
    "for k,v in dataset_dict.items():\n",
    "    with open(os.path.join(PICKLE_DIR, f\"{k}.pickle\"),\"wb\") as file:\n",
    "        pickle.dump(v, file)"
   ]
  }
 ],
 "metadata": {
  "kernelspec": {
   "display_name": "Python 3 (ipykernel)",
   "language": "python",
   "name": "python3"
  },
  "language_info": {
   "codemirror_mode": {
    "name": "ipython",
    "version": 3
   },
   "file_extension": ".py",
   "mimetype": "text/x-python",
   "name": "python",
   "nbconvert_exporter": "python",
   "pygments_lexer": "ipython3",
   "version": "3.7.7"
  }
 },
 "nbformat": 4,
 "nbformat_minor": 5
}
